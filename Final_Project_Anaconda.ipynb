{
  "metadata": {
    "kernelspec": {
      "language": "python",
      "display_name": "Python 3",
      "name": "python3"
    },
    "language_info": {
      "pygments_lexer": "ipython3",
      "nbconvert_exporter": "python",
      "version": "3.6.4",
      "file_extension": ".py",
      "codemirror_mode": {
        "name": "ipython",
        "version": 3
      },
      "name": "python",
      "mimetype": "text/x-python"
    },
    "colab": {
      "provenance": [],
      "toc_visible": true,
      "include_colab_link": true
    }
  },
  "nbformat_minor": 0,
  "nbformat": 4,
  "cells": [
    {
      "cell_type": "markdown",
      "metadata": {
        "id": "view-in-github",
        "colab_type": "text"
      },
      "source": [
        "<a href=\"https://colab.research.google.com/github/Vikry99/Belajar-Web-Programming/blob/main/Final_Project_Anaconda.ipynb\" target=\"_parent\"><img src=\"https://colab.research.google.com/assets/colab-badge.svg\" alt=\"Open In Colab\"/></a>"
      ]
    },
    {
      "cell_type": "code",
      "source": [
        "import numpy as np\n",
        "import pandas as pd\n",
        "import matplotlib.pyplot as plt\n",
        "import seaborn as sns\n"
      ],
      "metadata": {
        "_uuid": "8f2839f25d086af736a60e9eeb907d3b93b6e0e5",
        "_cell_guid": "b1076dfc-b9ad-4769-8c92-a6c4dae69d19",
        "id": "8syi34kAZOEM",
        "execution": {
          "iopub.status.busy": "2022-09-29T00:59:21.254386Z",
          "iopub.execute_input": "2022-09-29T00:59:21.254962Z",
          "iopub.status.idle": "2022-09-29T00:59:22.314994Z",
          "shell.execute_reply.started": "2022-09-29T00:59:21.254834Z",
          "shell.execute_reply": "2022-09-29T00:59:22.313597Z"
        },
        "trusted": true
      },
      "execution_count": null,
      "outputs": []
    },
    {
      "cell_type": "markdown",
      "source": [
        "# Load dataset"
      ],
      "metadata": {
        "id": "OI8hUSQgZOES"
      }
    },
    {
      "cell_type": "code",
      "source": [
        "df = pd.read_csv('https://github.com/Vikry99/dataset/blob/3faa50a057e69164d00206a45606f42f509a13ff/Europe%20Hotel%20Booking%20Satisfaction%20Score.csv')\n",
        "df.head()"
      ],
      "metadata": {
        "id": "H9OdAPwaZOET",
        "execution": {
          "iopub.status.busy": "2022-09-29T00:59:22.316806Z",
          "iopub.execute_input": "2022-09-29T00:59:22.317355Z",
          "iopub.status.idle": "2022-09-29T00:59:22.680516Z",
          "shell.execute_reply.started": "2022-09-29T00:59:22.317319Z",
          "shell.execute_reply": "2022-09-29T00:59:22.679421Z"
        },
        "trusted": true,
        "colab": {
          "base_uri": "https://localhost:8080/",
          "height": 241
        },
        "outputId": "ee149b28-89a8-42d8-93ab-acc231eda9ce"
      },
      "execution_count": 6,
      "outputs": [
        {
          "output_type": "error",
          "ename": "ParserError",
          "evalue": "ignored",
          "traceback": [
            "\u001b[0;31m---------------------------------------------------------------------------\u001b[0m",
            "\u001b[0;31mParserError\u001b[0m                               Traceback (most recent call last)",
            "\u001b[0;32m<ipython-input-6-6dc9fddd0112>\u001b[0m in \u001b[0;36m<cell line: 1>\u001b[0;34m()\u001b[0m\n\u001b[0;32m----> 1\u001b[0;31m \u001b[0mdf\u001b[0m \u001b[0;34m=\u001b[0m \u001b[0mpd\u001b[0m\u001b[0;34m.\u001b[0m\u001b[0mread_csv\u001b[0m\u001b[0;34m(\u001b[0m\u001b[0;34m'https://github.com/Vikry99/dataset/blob/3faa50a057e69164d00206a45606f42f509a13ff/Europe%20Hotel%20Booking%20Satisfaction%20Score.csv'\u001b[0m\u001b[0;34m)\u001b[0m\u001b[0;34m\u001b[0m\u001b[0;34m\u001b[0m\u001b[0m\n\u001b[0m\u001b[1;32m      2\u001b[0m \u001b[0mdf\u001b[0m\u001b[0;34m.\u001b[0m\u001b[0mhead\u001b[0m\u001b[0;34m(\u001b[0m\u001b[0;34m)\u001b[0m\u001b[0;34m\u001b[0m\u001b[0;34m\u001b[0m\u001b[0m\n",
            "\u001b[0;32m/usr/local/lib/python3.10/dist-packages/pandas/util/_decorators.py\u001b[0m in \u001b[0;36mwrapper\u001b[0;34m(*args, **kwargs)\u001b[0m\n\u001b[1;32m    209\u001b[0m                 \u001b[0;32melse\u001b[0m\u001b[0;34m:\u001b[0m\u001b[0;34m\u001b[0m\u001b[0;34m\u001b[0m\u001b[0m\n\u001b[1;32m    210\u001b[0m                     \u001b[0mkwargs\u001b[0m\u001b[0;34m[\u001b[0m\u001b[0mnew_arg_name\u001b[0m\u001b[0;34m]\u001b[0m \u001b[0;34m=\u001b[0m \u001b[0mnew_arg_value\u001b[0m\u001b[0;34m\u001b[0m\u001b[0;34m\u001b[0m\u001b[0m\n\u001b[0;32m--> 211\u001b[0;31m             \u001b[0;32mreturn\u001b[0m \u001b[0mfunc\u001b[0m\u001b[0;34m(\u001b[0m\u001b[0;34m*\u001b[0m\u001b[0margs\u001b[0m\u001b[0;34m,\u001b[0m \u001b[0;34m**\u001b[0m\u001b[0mkwargs\u001b[0m\u001b[0;34m)\u001b[0m\u001b[0;34m\u001b[0m\u001b[0;34m\u001b[0m\u001b[0m\n\u001b[0m\u001b[1;32m    212\u001b[0m \u001b[0;34m\u001b[0m\u001b[0m\n\u001b[1;32m    213\u001b[0m         \u001b[0;32mreturn\u001b[0m \u001b[0mcast\u001b[0m\u001b[0;34m(\u001b[0m\u001b[0mF\u001b[0m\u001b[0;34m,\u001b[0m \u001b[0mwrapper\u001b[0m\u001b[0;34m)\u001b[0m\u001b[0;34m\u001b[0m\u001b[0;34m\u001b[0m\u001b[0m\n",
            "\u001b[0;32m/usr/local/lib/python3.10/dist-packages/pandas/util/_decorators.py\u001b[0m in \u001b[0;36mwrapper\u001b[0;34m(*args, **kwargs)\u001b[0m\n\u001b[1;32m    329\u001b[0m                     \u001b[0mstacklevel\u001b[0m\u001b[0;34m=\u001b[0m\u001b[0mfind_stack_level\u001b[0m\u001b[0;34m(\u001b[0m\u001b[0;34m)\u001b[0m\u001b[0;34m,\u001b[0m\u001b[0;34m\u001b[0m\u001b[0;34m\u001b[0m\u001b[0m\n\u001b[1;32m    330\u001b[0m                 )\n\u001b[0;32m--> 331\u001b[0;31m             \u001b[0;32mreturn\u001b[0m \u001b[0mfunc\u001b[0m\u001b[0;34m(\u001b[0m\u001b[0;34m*\u001b[0m\u001b[0margs\u001b[0m\u001b[0;34m,\u001b[0m \u001b[0;34m**\u001b[0m\u001b[0mkwargs\u001b[0m\u001b[0;34m)\u001b[0m\u001b[0;34m\u001b[0m\u001b[0;34m\u001b[0m\u001b[0m\n\u001b[0m\u001b[1;32m    332\u001b[0m \u001b[0;34m\u001b[0m\u001b[0m\n\u001b[1;32m    333\u001b[0m         \u001b[0;31m# error: \"Callable[[VarArg(Any), KwArg(Any)], Any]\" has no\u001b[0m\u001b[0;34m\u001b[0m\u001b[0;34m\u001b[0m\u001b[0m\n",
            "\u001b[0;32m/usr/local/lib/python3.10/dist-packages/pandas/io/parsers/readers.py\u001b[0m in \u001b[0;36mread_csv\u001b[0;34m(filepath_or_buffer, sep, delimiter, header, names, index_col, usecols, squeeze, prefix, mangle_dupe_cols, dtype, engine, converters, true_values, false_values, skipinitialspace, skiprows, skipfooter, nrows, na_values, keep_default_na, na_filter, verbose, skip_blank_lines, parse_dates, infer_datetime_format, keep_date_col, date_parser, dayfirst, cache_dates, iterator, chunksize, compression, thousands, decimal, lineterminator, quotechar, quoting, doublequote, escapechar, comment, encoding, encoding_errors, dialect, error_bad_lines, warn_bad_lines, on_bad_lines, delim_whitespace, low_memory, memory_map, float_precision, storage_options)\u001b[0m\n\u001b[1;32m    948\u001b[0m     \u001b[0mkwds\u001b[0m\u001b[0;34m.\u001b[0m\u001b[0mupdate\u001b[0m\u001b[0;34m(\u001b[0m\u001b[0mkwds_defaults\u001b[0m\u001b[0;34m)\u001b[0m\u001b[0;34m\u001b[0m\u001b[0;34m\u001b[0m\u001b[0m\n\u001b[1;32m    949\u001b[0m \u001b[0;34m\u001b[0m\u001b[0m\n\u001b[0;32m--> 950\u001b[0;31m     \u001b[0;32mreturn\u001b[0m \u001b[0m_read\u001b[0m\u001b[0;34m(\u001b[0m\u001b[0mfilepath_or_buffer\u001b[0m\u001b[0;34m,\u001b[0m \u001b[0mkwds\u001b[0m\u001b[0;34m)\u001b[0m\u001b[0;34m\u001b[0m\u001b[0;34m\u001b[0m\u001b[0m\n\u001b[0m\u001b[1;32m    951\u001b[0m \u001b[0;34m\u001b[0m\u001b[0m\n\u001b[1;32m    952\u001b[0m \u001b[0;34m\u001b[0m\u001b[0m\n",
            "\u001b[0;32m/usr/local/lib/python3.10/dist-packages/pandas/io/parsers/readers.py\u001b[0m in \u001b[0;36m_read\u001b[0;34m(filepath_or_buffer, kwds)\u001b[0m\n\u001b[1;32m    609\u001b[0m \u001b[0;34m\u001b[0m\u001b[0m\n\u001b[1;32m    610\u001b[0m     \u001b[0;32mwith\u001b[0m \u001b[0mparser\u001b[0m\u001b[0;34m:\u001b[0m\u001b[0;34m\u001b[0m\u001b[0;34m\u001b[0m\u001b[0m\n\u001b[0;32m--> 611\u001b[0;31m         \u001b[0;32mreturn\u001b[0m \u001b[0mparser\u001b[0m\u001b[0;34m.\u001b[0m\u001b[0mread\u001b[0m\u001b[0;34m(\u001b[0m\u001b[0mnrows\u001b[0m\u001b[0;34m)\u001b[0m\u001b[0;34m\u001b[0m\u001b[0;34m\u001b[0m\u001b[0m\n\u001b[0m\u001b[1;32m    612\u001b[0m \u001b[0;34m\u001b[0m\u001b[0m\n\u001b[1;32m    613\u001b[0m \u001b[0;34m\u001b[0m\u001b[0m\n",
            "\u001b[0;32m/usr/local/lib/python3.10/dist-packages/pandas/io/parsers/readers.py\u001b[0m in \u001b[0;36mread\u001b[0;34m(self, nrows)\u001b[0m\n\u001b[1;32m   1776\u001b[0m                     \u001b[0mcolumns\u001b[0m\u001b[0;34m,\u001b[0m\u001b[0;34m\u001b[0m\u001b[0;34m\u001b[0m\u001b[0m\n\u001b[1;32m   1777\u001b[0m                     \u001b[0mcol_dict\u001b[0m\u001b[0;34m,\u001b[0m\u001b[0;34m\u001b[0m\u001b[0;34m\u001b[0m\u001b[0m\n\u001b[0;32m-> 1778\u001b[0;31m                 \u001b[0;34m)\u001b[0m \u001b[0;34m=\u001b[0m \u001b[0mself\u001b[0m\u001b[0;34m.\u001b[0m\u001b[0m_engine\u001b[0m\u001b[0;34m.\u001b[0m\u001b[0mread\u001b[0m\u001b[0;34m(\u001b[0m  \u001b[0;31m# type: ignore[attr-defined]\u001b[0m\u001b[0;34m\u001b[0m\u001b[0;34m\u001b[0m\u001b[0m\n\u001b[0m\u001b[1;32m   1779\u001b[0m                     \u001b[0mnrows\u001b[0m\u001b[0;34m\u001b[0m\u001b[0;34m\u001b[0m\u001b[0m\n\u001b[1;32m   1780\u001b[0m                 )\n",
            "\u001b[0;32m/usr/local/lib/python3.10/dist-packages/pandas/io/parsers/c_parser_wrapper.py\u001b[0m in \u001b[0;36mread\u001b[0;34m(self, nrows)\u001b[0m\n\u001b[1;32m    228\u001b[0m         \u001b[0;32mtry\u001b[0m\u001b[0;34m:\u001b[0m\u001b[0;34m\u001b[0m\u001b[0;34m\u001b[0m\u001b[0m\n\u001b[1;32m    229\u001b[0m             \u001b[0;32mif\u001b[0m \u001b[0mself\u001b[0m\u001b[0;34m.\u001b[0m\u001b[0mlow_memory\u001b[0m\u001b[0;34m:\u001b[0m\u001b[0;34m\u001b[0m\u001b[0;34m\u001b[0m\u001b[0m\n\u001b[0;32m--> 230\u001b[0;31m                 \u001b[0mchunks\u001b[0m \u001b[0;34m=\u001b[0m \u001b[0mself\u001b[0m\u001b[0;34m.\u001b[0m\u001b[0m_reader\u001b[0m\u001b[0;34m.\u001b[0m\u001b[0mread_low_memory\u001b[0m\u001b[0;34m(\u001b[0m\u001b[0mnrows\u001b[0m\u001b[0;34m)\u001b[0m\u001b[0;34m\u001b[0m\u001b[0;34m\u001b[0m\u001b[0m\n\u001b[0m\u001b[1;32m    231\u001b[0m                 \u001b[0;31m# destructive to chunks\u001b[0m\u001b[0;34m\u001b[0m\u001b[0;34m\u001b[0m\u001b[0m\n\u001b[1;32m    232\u001b[0m                 \u001b[0mdata\u001b[0m \u001b[0;34m=\u001b[0m \u001b[0m_concatenate_chunks\u001b[0m\u001b[0;34m(\u001b[0m\u001b[0mchunks\u001b[0m\u001b[0;34m)\u001b[0m\u001b[0;34m\u001b[0m\u001b[0;34m\u001b[0m\u001b[0m\n",
            "\u001b[0;32m/usr/local/lib/python3.10/dist-packages/pandas/_libs/parsers.pyx\u001b[0m in \u001b[0;36mpandas._libs.parsers.TextReader.read_low_memory\u001b[0;34m()\u001b[0m\n",
            "\u001b[0;32m/usr/local/lib/python3.10/dist-packages/pandas/_libs/parsers.pyx\u001b[0m in \u001b[0;36mpandas._libs.parsers.TextReader._read_rows\u001b[0;34m()\u001b[0m\n",
            "\u001b[0;32m/usr/local/lib/python3.10/dist-packages/pandas/_libs/parsers.pyx\u001b[0m in \u001b[0;36mpandas._libs.parsers.TextReader._tokenize_rows\u001b[0;34m()\u001b[0m\n",
            "\u001b[0;32m/usr/local/lib/python3.10/dist-packages/pandas/_libs/parsers.pyx\u001b[0m in \u001b[0;36mpandas._libs.parsers.raise_parser_error\u001b[0;34m()\u001b[0m\n",
            "\u001b[0;31mParserError\u001b[0m: Error tokenizing data. C error: Expected 1 fields in line 28, saw 367\n"
          ]
        }
      ]
    },
    {
      "cell_type": "code",
      "source": [
        "df.info()"
      ],
      "metadata": {
        "id": "hSSMc9SIZOET",
        "execution": {
          "iopub.status.busy": "2022-09-29T00:59:22.681981Z",
          "iopub.execute_input": "2022-09-29T00:59:22.682345Z",
          "iopub.status.idle": "2022-09-29T00:59:22.731728Z",
          "shell.execute_reply.started": "2022-09-29T00:59:22.682313Z",
          "shell.execute_reply": "2022-09-29T00:59:22.730433Z"
        },
        "trusted": true
      },
      "execution_count": null,
      "outputs": []
    },
    {
      "cell_type": "markdown",
      "source": [
        "# EDA (Exploratory Data Analyst)"
      ],
      "metadata": {
        "id": "e9rCm3jNZOEU"
      }
    },
    {
      "cell_type": "markdown",
      "source": [
        "## Check shape dataset"
      ],
      "metadata": {
        "id": "ubJ4wzG-ZOEU"
      }
    },
    {
      "cell_type": "code",
      "source": [
        "row = df.shape[0]\n",
        "column = df.shape[1]\n",
        "print(f\"Number of rows = {row} \\nNumber of columns = {column}\")"
      ],
      "metadata": {
        "id": "2kyeSg_SZOEV",
        "execution": {
          "iopub.status.busy": "2022-09-29T00:59:22.734076Z",
          "iopub.execute_input": "2022-09-29T00:59:22.734461Z",
          "iopub.status.idle": "2022-09-29T00:59:22.742453Z",
          "shell.execute_reply.started": "2022-09-29T00:59:22.734428Z",
          "shell.execute_reply": "2022-09-29T00:59:22.740957Z"
        },
        "trusted": true
      },
      "execution_count": null,
      "outputs": []
    },
    {
      "cell_type": "markdown",
      "source": [
        "## Check missing value"
      ],
      "metadata": {
        "id": "5P3KLB7aZOEW"
      }
    },
    {
      "cell_type": "code",
      "source": [
        "df.info()"
      ],
      "metadata": {
        "id": "mW5X1UKhZOEX",
        "execution": {
          "iopub.status.busy": "2022-09-29T00:59:22.744579Z",
          "iopub.execute_input": "2022-09-29T00:59:22.745038Z",
          "iopub.status.idle": "2022-09-29T00:59:22.791813Z",
          "shell.execute_reply.started": "2022-09-29T00:59:22.745003Z",
          "shell.execute_reply": "2022-09-29T00:59:22.790482Z"
        },
        "trusted": true
      },
      "execution_count": null,
      "outputs": []
    },
    {
      "cell_type": "code",
      "source": [
        "df.isnull().sum()"
      ],
      "metadata": {
        "id": "_y9kpA6pZOEX",
        "execution": {
          "iopub.status.busy": "2022-09-29T00:59:22.793465Z",
          "iopub.execute_input": "2022-09-29T00:59:22.794354Z",
          "iopub.status.idle": "2022-09-29T00:59:22.835897Z",
          "shell.execute_reply.started": "2022-09-29T00:59:22.794305Z",
          "shell.execute_reply": "2022-09-29T00:59:22.834611Z"
        },
        "trusted": true
      },
      "execution_count": null,
      "outputs": []
    },
    {
      "cell_type": "markdown",
      "source": [
        "## Unique data from each column"
      ],
      "metadata": {
        "id": "CWe2u5GIZOEY"
      }
    },
    {
      "cell_type": "code",
      "source": [
        "print(\"Number of unique labels from each column\")\n",
        "print(\"===\"*16)\n",
        "for x in df.columns:\n",
        "    print(f\"{x} : {len(df[x].unique())} labels\")\n",
        "    print(f\"{x} : {df[x].unique()} \\n\")"
      ],
      "metadata": {
        "id": "S9bWLxbcZOEY",
        "execution": {
          "iopub.status.busy": "2022-09-29T00:59:22.837878Z",
          "iopub.execute_input": "2022-09-29T00:59:22.838729Z",
          "iopub.status.idle": "2022-09-29T00:59:22.951478Z",
          "shell.execute_reply.started": "2022-09-29T00:59:22.838662Z",
          "shell.execute_reply": "2022-09-29T00:59:22.950148Z"
        },
        "trusted": true
      },
      "execution_count": null,
      "outputs": []
    },
    {
      "cell_type": "markdown",
      "source": [
        "In the Type Of Booking column there is data 'Not defined', then we have to check the distribution of the data"
      ],
      "metadata": {
        "id": "HOJKTQAfZOEY"
      }
    },
    {
      "cell_type": "code",
      "source": [
        "print(df['Type Of Booking'].value_counts())\n",
        "print(df['Type Of Booking'].value_counts(normalize=True))"
      ],
      "metadata": {
        "id": "mL_bNC1CZOEZ",
        "execution": {
          "iopub.status.busy": "2022-09-29T00:59:22.953253Z",
          "iopub.execute_input": "2022-09-29T00:59:22.954012Z",
          "iopub.status.idle": "2022-09-29T00:59:22.978763Z",
          "shell.execute_reply.started": "2022-09-29T00:59:22.953966Z",
          "shell.execute_reply": "2022-09-29T00:59:22.977456Z"
        },
        "trusted": true
      },
      "execution_count": null,
      "outputs": []
    },
    {
      "cell_type": "markdown",
      "source": [
        "If seen, the amount of data that is not defined is 7494 or about 7.2%. Therefore we can filter or drop the data because the percentage is small"
      ],
      "metadata": {
        "id": "JAQZBW6LZOEZ"
      }
    },
    {
      "cell_type": "code",
      "source": [
        "x_drop = df[df['Type Of Booking'].apply(lambda x: x.startswith('Not defined'))].index\n",
        "df = df.drop(x_drop)\n",
        "df = df.reset_index(drop=True)\n",
        "df.head()"
      ],
      "metadata": {
        "id": "7Vs9FpQdZOEZ",
        "execution": {
          "iopub.status.busy": "2022-09-29T00:59:22.980231Z",
          "iopub.execute_input": "2022-09-29T00:59:22.981028Z",
          "iopub.status.idle": "2022-09-29T00:59:23.067718Z",
          "shell.execute_reply.started": "2022-09-29T00:59:22.980978Z",
          "shell.execute_reply": "2022-09-29T00:59:23.066525Z"
        },
        "trusted": true
      },
      "execution_count": null,
      "outputs": []
    },
    {
      "cell_type": "code",
      "source": [
        "df.shape"
      ],
      "metadata": {
        "id": "N8alfljPZOEa",
        "execution": {
          "iopub.status.busy": "2022-09-29T00:59:23.071742Z",
          "iopub.execute_input": "2022-09-29T00:59:23.072153Z",
          "iopub.status.idle": "2022-09-29T00:59:23.079812Z",
          "shell.execute_reply.started": "2022-09-29T00:59:23.072118Z",
          "shell.execute_reply": "2022-09-29T00:59:23.078481Z"
        },
        "trusted": true
      },
      "execution_count": null,
      "outputs": []
    },
    {
      "cell_type": "markdown",
      "source": [
        "After filtering, the amount of data becomes 96,410 and this data will be used for the next stage."
      ],
      "metadata": {
        "id": "jLkcWHowZOEb"
      }
    },
    {
      "cell_type": "markdown",
      "source": [
        "## Check Duplicated"
      ],
      "metadata": {
        "id": "NvpKoAhpZOEb"
      }
    },
    {
      "cell_type": "code",
      "source": [
        "df[\"id\"].duplicated().sum()"
      ],
      "metadata": {
        "id": "1VZt450MZOEb",
        "execution": {
          "iopub.status.busy": "2022-09-29T00:59:23.081311Z",
          "iopub.execute_input": "2022-09-29T00:59:23.081741Z",
          "iopub.status.idle": "2022-09-29T00:59:23.09392Z",
          "shell.execute_reply.started": "2022-09-29T00:59:23.081685Z",
          "shell.execute_reply": "2022-09-29T00:59:23.092769Z"
        },
        "trusted": true
      },
      "execution_count": null,
      "outputs": []
    },
    {
      "cell_type": "markdown",
      "source": [
        "## Check data outliers"
      ],
      "metadata": {
        "id": "5H-3v9eUZOEc"
      }
    },
    {
      "cell_type": "code",
      "source": [
        "df.plot(kind = 'box', subplots=True, figsize=(25,20), layout = (5,5))\n",
        "plt.show()"
      ],
      "metadata": {
        "id": "xLhgqHWlZOEc",
        "execution": {
          "iopub.status.busy": "2022-09-29T00:59:23.095414Z",
          "iopub.execute_input": "2022-09-29T00:59:23.095856Z",
          "iopub.status.idle": "2022-09-29T00:59:24.986908Z",
          "shell.execute_reply.started": "2022-09-29T00:59:23.095824Z",
          "shell.execute_reply": "2022-09-29T00:59:24.985635Z"
        },
        "trusted": true
      },
      "execution_count": null,
      "outputs": []
    },
    {
      "cell_type": "markdown",
      "source": [
        "If we look at the visualization above, we will only find outliers in the checkin/checkout service data which are also small in number with a scale of 0-5. Therefore we can ignore the data outliers without the need to handle outliers"
      ],
      "metadata": {
        "id": "p3nM5IA_ZOEc"
      }
    },
    {
      "cell_type": "markdown",
      "source": [
        "## View Distribution of target Label data"
      ],
      "metadata": {
        "id": "lpYsOcQHZOEc"
      }
    },
    {
      "cell_type": "code",
      "source": [
        "plt.rcParams[\"figure.figsize\"] = [6,6]\n",
        "plt.rcParams[\"figure.autolayout\"] = True\n",
        "ax = sns.countplot(x=\"satisfaction\", data=df)\n",
        "\n",
        "for p in ax.patches:\n",
        "   ax.annotate('{:.0f}'.format(p.get_height()), (p.get_x()+0.25, p.get_height()+0.01));"
      ],
      "metadata": {
        "id": "oLeiD8unZOEc",
        "execution": {
          "iopub.status.busy": "2022-09-29T00:59:24.988803Z",
          "iopub.execute_input": "2022-09-29T00:59:24.989531Z",
          "iopub.status.idle": "2022-09-29T00:59:25.292337Z",
          "shell.execute_reply.started": "2022-09-29T00:59:24.989485Z",
          "shell.execute_reply": "2022-09-29T00:59:25.291396Z"
        },
        "trusted": true
      },
      "execution_count": null,
      "outputs": []
    },
    {
      "cell_type": "code",
      "source": [
        "df.satisfaction.value_counts(normalize=True)"
      ],
      "metadata": {
        "id": "iYE1Pw_-ZOEd",
        "execution": {
          "iopub.status.busy": "2022-09-29T00:59:25.293981Z",
          "iopub.execute_input": "2022-09-29T00:59:25.294696Z",
          "iopub.status.idle": "2022-09-29T00:59:25.31178Z",
          "shell.execute_reply.started": "2022-09-29T00:59:25.294652Z",
          "shell.execute_reply": "2022-09-29T00:59:25.310533Z"
        },
        "trusted": true
      },
      "execution_count": null,
      "outputs": []
    },
    {
      "cell_type": "markdown",
      "source": [
        "It can be seen that the distribution of the data is quite balanced with 53,229 dissatisfied and 43,181 satisfied data."
      ],
      "metadata": {
        "id": "fBC0xzbqZOEd"
      }
    },
    {
      "cell_type": "markdown",
      "source": [
        "## Visualization of categorical data"
      ],
      "metadata": {
        "id": "E5TaZYDGZOEd"
      }
    },
    {
      "cell_type": "code",
      "source": [
        "# sns.set(style='darkgrid')\n",
        "fig, ax = plt.subplots(2,2, figsize=(14, 12))\n",
        "sns.countplot(data=df, x='Gender', hue='satisfaction', ax=ax[0][0])\n",
        "sns.countplot(data=df, x='purpose_of_travel', hue='satisfaction', ax=ax[0][1])\n",
        "sns.countplot(data=df, x='Type of Travel', hue='satisfaction', ax=ax[1][0])\n",
        "sns.countplot(data=df, x='Type Of Booking', hue='satisfaction', ax=ax[1][1])\n",
        "plt.tight_layout();"
      ],
      "metadata": {
        "id": "7VEg5Xj6ZOEd",
        "execution": {
          "iopub.status.busy": "2022-09-29T00:59:25.315201Z",
          "iopub.execute_input": "2022-09-29T00:59:25.315558Z",
          "iopub.status.idle": "2022-09-29T00:59:26.654097Z",
          "shell.execute_reply.started": "2022-09-29T00:59:25.315526Z",
          "shell.execute_reply": "2022-09-29T00:59:26.652774Z"
        },
        "trusted": true
      },
      "execution_count": null,
      "outputs": []
    },
    {
      "cell_type": "markdown",
      "source": [
        "Based on the above visualization we can conclude:\n",
        "\n",
        "1. In the Gender column, the number of Satisfied and Dissatisfied is almost the same\n",
        "2. In the purpose of travel column, the highest number of Satisfied and Dissatisfied is in the type of tourism trip. This can be due to the fact that travel in terms of tourism is the most numerous compared to others.\n",
        "3. In the type of travel column, the level of satisfaction is high for group-type trips, which is around 40k while on personal trips it is only around 2500\n",
        "4. In the type of booking column, the level of satisfaction is high at the level of group bookings, which is around 34k, it is directly proportional to the type of group travel, while for individual/couple booking types that satisfy only about 9000, it is also directly proportional to the type of personal travel."
      ],
      "metadata": {
        "id": "x-Eh-z7eZOEe"
      }
    },
    {
      "cell_type": "markdown",
      "source": [
        "## Breakdown Categorical data for each feature"
      ],
      "metadata": {
        "id": "e1A-6UjjZOEe"
      }
    },
    {
      "cell_type": "markdown",
      "source": [
        "### Gender"
      ],
      "metadata": {
        "id": "ObOR3PRgZOEe"
      }
    },
    {
      "cell_type": "code",
      "source": [
        "def df_countplot(df, target):\n",
        "    f, axes = plt.subplots(1, 2, figsize=(15,5))\n",
        "    ax1 = sns.countplot( x = target, data = df,  ax=axes[0])\n",
        "\n",
        "    counts = df.groupby([target, 'satisfaction']).size().to_frame('Total')\n",
        "    counts = counts.reset_index()\n",
        "    ax2 = sns.barplot(data=counts, y='Total', x=target, hue='satisfaction', ax=axes[1])\n",
        "    plt.show()\n",
        "#     return ax1\n",
        "\n",
        "def pivot_satisfaction(df,target):\n",
        "  df_rate = pd.pivot_table(\n",
        "      df[['id',target,'satisfaction']],\n",
        "      index       =[target],\n",
        "      columns     =['satisfaction'],\n",
        "      aggfunc     =\"count\",\n",
        "      fill_value  =0,\n",
        "  ).reset_index()\n",
        "\n",
        "  df_rate.columns=[target,'neutral or dissatisfied','satisfied']\n",
        "\n",
        "  df_rate['total'] = df_rate['neutral or dissatisfied'] + df_rate['satisfied']\n",
        "  df_rate[\"satisfaction Rate\"] = round((df_rate['satisfied']/df_rate['total'])*100,2)\n",
        "  df_rate[\"dissatisfied Rate\"] = round((df_rate['neutral or dissatisfied']/df_rate['total'])*100,2)\n",
        "  return df_rate"
      ],
      "metadata": {
        "id": "uj-ofTvZZOEe",
        "execution": {
          "iopub.status.busy": "2022-09-29T00:59:26.655756Z",
          "iopub.execute_input": "2022-09-29T00:59:26.656315Z",
          "iopub.status.idle": "2022-09-29T00:59:26.667082Z",
          "shell.execute_reply.started": "2022-09-29T00:59:26.656279Z",
          "shell.execute_reply": "2022-09-29T00:59:26.665438Z"
        },
        "trusted": true
      },
      "execution_count": null,
      "outputs": []
    },
    {
      "cell_type": "code",
      "source": [
        "df_countplot(df,\"Gender\")"
      ],
      "metadata": {
        "id": "c6eieAC6ZOEf",
        "execution": {
          "iopub.status.busy": "2022-09-29T00:59:26.671272Z",
          "iopub.execute_input": "2022-09-29T00:59:26.671782Z",
          "iopub.status.idle": "2022-09-29T00:59:27.120064Z",
          "shell.execute_reply.started": "2022-09-29T00:59:26.67173Z",
          "shell.execute_reply": "2022-09-29T00:59:27.118632Z"
        },
        "trusted": true
      },
      "execution_count": null,
      "outputs": []
    },
    {
      "cell_type": "code",
      "source": [
        "pivot_satisfaction(df,\"Gender\")"
      ],
      "metadata": {
        "id": "i_6qZq2gZOEf",
        "execution": {
          "iopub.status.busy": "2022-09-29T00:59:27.121547Z",
          "iopub.execute_input": "2022-09-29T00:59:27.122826Z",
          "iopub.status.idle": "2022-09-29T00:59:27.179518Z",
          "shell.execute_reply.started": "2022-09-29T00:59:27.122768Z",
          "shell.execute_reply": "2022-09-29T00:59:27.178607Z"
        },
        "trusted": true
      },
      "execution_count": null,
      "outputs": []
    },
    {
      "cell_type": "markdown",
      "source": [
        "We see that the levels of \"satisfied\" and \"dissatisfied\" in gender \"Female\" and \"Male\" are relatively balanced, namely 44.28% : 45.30% and 55.71% : 54.69% . Here we see that \"Male\" is slightly more satisfied with hotel services than \"Female\""
      ],
      "metadata": {
        "id": "cWoHXWGGZOEg"
      }
    },
    {
      "cell_type": "markdown",
      "source": [
        "### Purpose of Travel"
      ],
      "metadata": {
        "id": "bVzInMhnZOEg"
      }
    },
    {
      "cell_type": "code",
      "source": [
        "df_countplot(df,\"purpose_of_travel\")"
      ],
      "metadata": {
        "id": "ZTcze7C0ZOEg",
        "execution": {
          "iopub.status.busy": "2022-09-29T00:59:27.180823Z",
          "iopub.execute_input": "2022-09-29T00:59:27.181732Z",
          "iopub.status.idle": "2022-09-29T00:59:27.684288Z",
          "shell.execute_reply.started": "2022-09-29T00:59:27.181675Z",
          "shell.execute_reply": "2022-09-29T00:59:27.683011Z"
        },
        "trusted": true
      },
      "execution_count": null,
      "outputs": []
    },
    {
      "cell_type": "code",
      "source": [
        "pivot_satisfaction(df,\"purpose_of_travel\")"
      ],
      "metadata": {
        "id": "3M4t-HUDZOEg",
        "execution": {
          "iopub.status.busy": "2022-09-29T00:59:27.686099Z",
          "iopub.execute_input": "2022-09-29T00:59:27.686862Z",
          "iopub.status.idle": "2022-09-29T00:59:27.737142Z",
          "shell.execute_reply.started": "2022-09-29T00:59:27.686814Z",
          "shell.execute_reply": "2022-09-29T00:59:27.735919Z"
        },
        "trusted": true
      },
      "execution_count": null,
      "outputs": []
    },
    {
      "cell_type": "markdown",
      "source": [
        "In the graph above, it is clear that the level of satisfaction of the \"tourism\" travel destination is high, although the level of dissatisfaction is also high. However, if we look in detail, the satisfaction level of each travel destination is relatively balanced, namely at 44-45% with the highest \"tourism\". At the level of \"neutral or dissatisfied\" the highest rating by \"Aviation\" with 55.97%. However, in general, the rates for each travel destination are almost the same."
      ],
      "metadata": {
        "id": "9wX-GZcvZOEg"
      }
    },
    {
      "cell_type": "markdown",
      "source": [
        "### Type of Travel"
      ],
      "metadata": {
        "id": "OTaE4DBtZOEh"
      }
    },
    {
      "cell_type": "code",
      "source": [
        "df_countplot(df,\"Type of Travel\")"
      ],
      "metadata": {
        "id": "e3bnHskDZOEh",
        "execution": {
          "iopub.status.busy": "2022-09-29T00:59:27.738439Z",
          "iopub.execute_input": "2022-09-29T00:59:27.738818Z",
          "iopub.status.idle": "2022-09-29T00:59:28.193346Z",
          "shell.execute_reply.started": "2022-09-29T00:59:27.738783Z",
          "shell.execute_reply": "2022-09-29T00:59:28.192388Z"
        },
        "trusted": true
      },
      "execution_count": null,
      "outputs": []
    },
    {
      "cell_type": "code",
      "source": [
        "pivot_satisfaction(df,\"Type of Travel\")"
      ],
      "metadata": {
        "id": "YxyXCE0gZOEh",
        "execution": {
          "iopub.status.busy": "2022-09-29T00:59:28.194554Z",
          "iopub.execute_input": "2022-09-29T00:59:28.195465Z",
          "iopub.status.idle": "2022-09-29T00:59:28.243256Z",
          "shell.execute_reply.started": "2022-09-29T00:59:28.195424Z",
          "shell.execute_reply": "2022-09-29T00:59:28.242034Z"
        },
        "trusted": true
      },
      "execution_count": null,
      "outputs": []
    },
    {
      "cell_type": "markdown",
      "source": [
        "If you look at the graph, there are interesting things here. That for a \"Group Travel\" type of trip, the \"Satisfaction\" level is quite high, namely 59.34%, inversely proportional to the \"Personal Travel\" type of trip. Even \"Personal Travel\" gets a very high \"neutral or dissatisfied\" rate of 89.64%. It can be concluded that this hotel is more intended for the benefit of \"Group Travel\"."
      ],
      "metadata": {
        "id": "qTw0Bd20ZOEh"
      }
    },
    {
      "cell_type": "markdown",
      "source": [
        "### Type of Booking"
      ],
      "metadata": {
        "id": "0EQh-c-5ZOEi"
      }
    },
    {
      "cell_type": "code",
      "source": [
        "df_countplot(df,\"Type Of Booking\")"
      ],
      "metadata": {
        "id": "w3pCzWKnZOEi",
        "execution": {
          "iopub.status.busy": "2022-09-29T00:59:28.24499Z",
          "iopub.execute_input": "2022-09-29T00:59:28.245363Z",
          "iopub.status.idle": "2022-09-29T00:59:28.701399Z",
          "shell.execute_reply.started": "2022-09-29T00:59:28.245328Z",
          "shell.execute_reply": "2022-09-29T00:59:28.700132Z"
        },
        "trusted": true
      },
      "execution_count": null,
      "outputs": []
    },
    {
      "cell_type": "code",
      "source": [
        "pivot_satisfaction(df,\"Type Of Booking\")"
      ],
      "metadata": {
        "id": "kmtmvHIcZOEi",
        "execution": {
          "iopub.status.busy": "2022-09-29T00:59:28.702986Z",
          "iopub.execute_input": "2022-09-29T00:59:28.703379Z",
          "iopub.status.idle": "2022-09-29T00:59:28.754757Z",
          "shell.execute_reply.started": "2022-09-29T00:59:28.703344Z",
          "shell.execute_reply": "2022-09-29T00:59:28.753793Z"
        },
        "trusted": true
      },
      "execution_count": null,
      "outputs": []
    },
    {
      "cell_type": "markdown",
      "source": [
        "The same thing we see in \"Type Of Booking\" which is directly proportional to \"Type of Travel\". Of course, if the \"Type of Travel\" is \"Group Travel\" then the \"Type of Booking\" is also the \"Group Booking\" type. The satisfaction rate for \"Group Booking\" reached 69.42% compared to \"Individual/Couple\". Here we can get an insight that the \"Type of Booking\" for \"Couple\" then most likely the \"Type of Travel\" that is taken is \"Group Travel\" (More than 1). That factor is why the level of \"neutral or dissatisfied\" in the \"Type of Travel\" type \"Group Travel\" is quite high."
      ],
      "metadata": {
        "id": "aNnUghO5ZOEi"
      }
    },
    {
      "cell_type": "markdown",
      "source": [
        "## Numeric data visualization"
      ],
      "metadata": {
        "id": "D7lYNcDxZOEi"
      }
    },
    {
      "cell_type": "code",
      "source": [
        "fig, ax = plt.subplots(5,2, figsize=(14, 20))\n",
        "sns.countplot(data=df, x='Hotel wifi service', hue='satisfaction', ax=ax[0][0])\n",
        "sns.countplot(data=df, x='Departure/Arrival  convenience', hue='satisfaction', ax=ax[0][1])\n",
        "sns.countplot(data=df, x='Ease of Online booking', hue='satisfaction', ax=ax[1][0])\n",
        "sns.countplot(data=df, x='Hotel location', hue='satisfaction', ax=ax[1][1])\n",
        "sns.countplot(data=df, x='Food and drink', hue='satisfaction', ax=ax[2][0])\n",
        "sns.countplot(data=df, x='Other service', hue='satisfaction', ax=ax[2][1])\n",
        "sns.countplot(data=df, x='Stay comfort', hue='satisfaction', ax=ax[3][0])\n",
        "sns.countplot(data=df, x='Common Room entertainment', hue='satisfaction', ax=ax[3][1])\n",
        "sns.countplot(data=df, x='Checkin/Checkout service', hue='satisfaction', ax=ax[4][0])\n",
        "sns.countplot(data=df, x='Cleanliness', hue='satisfaction', ax=ax[4][1])\n",
        "plt.tight_layout();"
      ],
      "metadata": {
        "id": "qhxTR00XZOEi",
        "execution": {
          "iopub.status.busy": "2022-09-29T00:59:28.756318Z",
          "iopub.execute_input": "2022-09-29T00:59:28.757033Z",
          "iopub.status.idle": "2022-09-29T00:59:31.773102Z",
          "shell.execute_reply.started": "2022-09-29T00:59:28.756989Z",
          "shell.execute_reply": "2022-09-29T00:59:31.771792Z"
        },
        "trusted": true
      },
      "execution_count": null,
      "outputs": []
    },
    {
      "cell_type": "markdown",
      "source": [
        "If we look more closely by assuming a score of 0-3 is dissatisfied and 4-5 is satisfied, we can see from this visualization that there are several high dissatisfied scores. We will take only the top 3, namely:\n",
        "\n",
        "1. Hotel wifi service\n",
        "2. Common room Entertainment\n",
        "3. Stay Comfort"
      ],
      "metadata": {
        "id": "PKPbWsOGfYF6"
      }
    },
    {
      "cell_type": "markdown",
      "source": [
        "### Age"
      ],
      "metadata": {
        "id": "7d5DIiBxeK2D"
      }
    },
    {
      "cell_type": "code",
      "source": [
        "facet = sns.FacetGrid(df, hue = 'satisfaction', aspect = 4)\n",
        "facet.map(sns.kdeplot, \"Age\", shade= True)\n",
        "facet.add_legend()\n",
        "plt.show()\n",
        "\n",
        "plt.rcParams[\"figure.figsize\"] = [8,8]\n",
        "plt.rcParams[\"figure.autolayout\"] = True\n",
        "sns.histplot(data = df, x = \"Age\", kde = True, hue = \"satisfaction\")"
      ],
      "metadata": {
        "id": "TdaPPg1YZOEj",
        "execution": {
          "iopub.status.busy": "2022-09-29T00:59:31.774472Z",
          "iopub.execute_input": "2022-09-29T00:59:31.774961Z",
          "iopub.status.idle": "2022-09-29T00:59:34.511552Z",
          "shell.execute_reply.started": "2022-09-29T00:59:31.774917Z",
          "shell.execute_reply": "2022-09-29T00:59:34.51028Z"
        },
        "trusted": true
      },
      "execution_count": null,
      "outputs": []
    },
    {
      "cell_type": "markdown",
      "source": [
        "It can be seen that the highest level of satisfaction is in the range of 40-60 while under the age of 40 the average level of satisfaction is dissatisfied and also over the age of 60 feel dissatisfied."
      ],
      "metadata": {
        "id": "GjbrephuefpL"
      }
    },
    {
      "cell_type": "code",
      "source": [
        "def age_group(age):\n",
        "  if age < 40:\n",
        "    return \"Young\"\n",
        "  elif age > 60:\n",
        "    return \"Old\"\n",
        "  else:\n",
        "    return \"Middle\"\n",
        "\n",
        "df['age_group'] = df['Age'].apply(lambda age: age_group(age))"
      ],
      "metadata": {
        "id": "BLVeV4Freat6",
        "execution": {
          "iopub.status.busy": "2022-09-29T00:59:34.513007Z",
          "iopub.execute_input": "2022-09-29T00:59:34.51337Z",
          "iopub.status.idle": "2022-09-29T00:59:34.553277Z",
          "shell.execute_reply.started": "2022-09-29T00:59:34.513337Z",
          "shell.execute_reply": "2022-09-29T00:59:34.551733Z"
        },
        "trusted": true
      },
      "execution_count": null,
      "outputs": []
    },
    {
      "cell_type": "code",
      "source": [
        "df_countplot(df,\"age_group\")"
      ],
      "metadata": {
        "id": "Aip2OwgUe0KZ",
        "execution": {
          "iopub.status.busy": "2022-09-29T00:59:34.560201Z",
          "iopub.execute_input": "2022-09-29T00:59:34.560639Z",
          "iopub.status.idle": "2022-09-29T00:59:35.018034Z",
          "shell.execute_reply.started": "2022-09-29T00:59:34.560603Z",
          "shell.execute_reply": "2022-09-29T00:59:35.016683Z"
        },
        "trusted": true
      },
      "execution_count": null,
      "outputs": []
    },
    {
      "cell_type": "code",
      "source": [
        "pivot_satisfaction(df,\"age_group\")"
      ],
      "metadata": {
        "id": "FKI1pXgdd_o8",
        "execution": {
          "iopub.status.busy": "2022-09-29T00:59:35.019642Z",
          "iopub.execute_input": "2022-09-29T00:59:35.020063Z",
          "iopub.status.idle": "2022-09-29T00:59:35.078619Z",
          "shell.execute_reply.started": "2022-09-29T00:59:35.020024Z",
          "shell.execute_reply": "2022-09-29T00:59:35.077388Z"
        },
        "trusted": true
      },
      "execution_count": null,
      "outputs": []
    },
    {
      "cell_type": "markdown",
      "source": [
        "Next we will focus more on data where other than age_group which is not 'Middle' because there is an opputunity how we can improve our service"
      ],
      "metadata": {
        "id": "4ETuH3bli55X"
      }
    },
    {
      "cell_type": "code",
      "source": [
        "df_not_mid_age = df[df['age_group'] != 'Middle']\n",
        "df_not_mid_age.shape"
      ],
      "metadata": {
        "id": "OgLPE3fci9MW",
        "execution": {
          "iopub.status.busy": "2022-09-29T00:59:35.080631Z",
          "iopub.execute_input": "2022-09-29T00:59:35.081138Z",
          "iopub.status.idle": "2022-09-29T00:59:35.105761Z",
          "shell.execute_reply.started": "2022-09-29T00:59:35.081089Z",
          "shell.execute_reply": "2022-09-29T00:59:35.104483Z"
        },
        "trusted": true
      },
      "execution_count": null,
      "outputs": []
    },
    {
      "cell_type": "markdown",
      "source": [
        "#### Age and hotel wife service"
      ],
      "metadata": {
        "id": "7NUJYjsGjR-g"
      }
    },
    {
      "cell_type": "code",
      "source": [
        "df_countplot(df_not_mid_age,\"Hotel wifi service\")"
      ],
      "metadata": {
        "id": "_wNoDpxljDaC",
        "execution": {
          "iopub.status.busy": "2022-09-29T00:59:35.107283Z",
          "iopub.execute_input": "2022-09-29T00:59:35.107789Z",
          "iopub.status.idle": "2022-09-29T00:59:35.586861Z",
          "shell.execute_reply.started": "2022-09-29T00:59:35.107738Z",
          "shell.execute_reply": "2022-09-29T00:59:35.585566Z"
        },
        "trusted": true
      },
      "execution_count": null,
      "outputs": []
    },
    {
      "cell_type": "code",
      "source": [
        "pivot_satisfaction(df_not_mid_age,\"Hotel wifi service\")"
      ],
      "metadata": {
        "id": "Klkgnw8ojeUz",
        "execution": {
          "iopub.status.busy": "2022-09-29T00:59:35.588525Z",
          "iopub.execute_input": "2022-09-29T00:59:35.589004Z",
          "iopub.status.idle": "2022-09-29T00:59:35.626631Z",
          "shell.execute_reply.started": "2022-09-29T00:59:35.588957Z",
          "shell.execute_reply": "2022-09-29T00:59:35.625472Z"
        },
        "trusted": true
      },
      "execution_count": null,
      "outputs": []
    },
    {
      "cell_type": "markdown",
      "source": [
        "#### Age and common room entertaiment"
      ],
      "metadata": {
        "id": "HqxAKRn0kAMC"
      }
    },
    {
      "cell_type": "code",
      "source": [
        "df_countplot(df_not_mid_age,\"Common Room entertainment\")"
      ],
      "metadata": {
        "id": "lLtkBQtgj-rH",
        "execution": {
          "iopub.status.busy": "2022-09-29T00:59:35.627966Z",
          "iopub.execute_input": "2022-09-29T00:59:35.628399Z",
          "iopub.status.idle": "2022-09-29T00:59:36.089036Z",
          "shell.execute_reply.started": "2022-09-29T00:59:35.628367Z",
          "shell.execute_reply": "2022-09-29T00:59:36.087793Z"
        },
        "trusted": true
      },
      "execution_count": null,
      "outputs": []
    },
    {
      "cell_type": "code",
      "source": [
        "pivot_satisfaction(df_not_mid_age,\"Common Room entertainment\")"
      ],
      "metadata": {
        "id": "W46qdi3lkLpQ",
        "execution": {
          "iopub.status.busy": "2022-09-29T00:59:36.090754Z",
          "iopub.execute_input": "2022-09-29T00:59:36.092081Z",
          "iopub.status.idle": "2022-09-29T00:59:36.129347Z",
          "shell.execute_reply.started": "2022-09-29T00:59:36.092032Z",
          "shell.execute_reply": "2022-09-29T00:59:36.128101Z"
        },
        "trusted": true
      },
      "execution_count": null,
      "outputs": []
    },
    {
      "cell_type": "markdown",
      "source": [
        "#### Age and stay comfort"
      ],
      "metadata": {
        "id": "ZS3_jpvfkfB_"
      }
    },
    {
      "cell_type": "code",
      "source": [
        "df_countplot(df_not_mid_age,\"Stay comfort\")"
      ],
      "metadata": {
        "id": "P4-F_F9YkY-c",
        "execution": {
          "iopub.status.busy": "2022-09-29T00:59:36.130764Z",
          "iopub.execute_input": "2022-09-29T00:59:36.1311Z",
          "iopub.status.idle": "2022-09-29T00:59:36.601781Z",
          "shell.execute_reply.started": "2022-09-29T00:59:36.13107Z",
          "shell.execute_reply": "2022-09-29T00:59:36.599921Z"
        },
        "trusted": true
      },
      "execution_count": null,
      "outputs": []
    },
    {
      "cell_type": "code",
      "source": [
        "pivot_satisfaction(df_not_mid_age,\"Stay comfort\")"
      ],
      "metadata": {
        "id": "OV7PTO9dkru7",
        "execution": {
          "iopub.status.busy": "2022-09-29T00:59:36.604792Z",
          "iopub.execute_input": "2022-09-29T00:59:36.605941Z",
          "iopub.status.idle": "2022-09-29T00:59:36.640027Z",
          "shell.execute_reply.started": "2022-09-29T00:59:36.60589Z",
          "shell.execute_reply": "2022-09-29T00:59:36.638888Z"
        },
        "trusted": true
      },
      "execution_count": null,
      "outputs": []
    },
    {
      "cell_type": "markdown",
      "source": [
        "# Preprocessing data"
      ],
      "metadata": {
        "id": "RClBV84CkysX"
      }
    },
    {
      "cell_type": "markdown",
      "source": [
        "## Encode data"
      ],
      "metadata": {
        "id": "hLlPF21ek6GD"
      }
    },
    {
      "cell_type": "markdown",
      "source": [
        "### One hot encode"
      ],
      "metadata": {
        "id": "xOOxx9knrUU1"
      }
    },
    {
      "cell_type": "code",
      "source": [
        "def one_hot_encode (df_,variable,top_x_labels):\n",
        "  for label in top_x_labels:\n",
        "    df_[variable + '_' + label] = np.where(df[variable]==label,1,0)\n",
        "\n",
        "# Purpose_of_travel\n",
        "one_hot = [x for x in df['purpose_of_travel'].value_counts().sort_values(ascending=False).head().index]\n",
        "one_hot_encode(df,'purpose_of_travel',one_hot)\n",
        "df = df.drop(['purpose_of_travel'], axis=1)\n",
        "\n",
        "# Type_of_travel\n",
        "one_hot = [x for x in df['Type of Travel'].value_counts().sort_values(ascending=False).head().index]\n",
        "one_hot_encode(df,'Type of Travel',one_hot)\n",
        "df = df.drop(['Type of Travel'], axis=1)\n",
        "\n",
        "# Type_of_booking\n",
        "one_hot = [x for x in df['Type Of Booking'].value_counts().sort_values(ascending=False).head().index]\n",
        "one_hot_encode(df,'Type Of Booking',one_hot)\n",
        "df = df.drop(['Type Of Booking'], axis=1)\n",
        "\n",
        "df = df.drop(['age_group'], axis=1)\n",
        "\n",
        "\n",
        "df.head()"
      ],
      "metadata": {
        "id": "evD1AEAprTGz",
        "execution": {
          "iopub.status.busy": "2022-09-29T00:59:36.641411Z",
          "iopub.execute_input": "2022-09-29T00:59:36.641772Z",
          "iopub.status.idle": "2022-09-29T00:59:36.84768Z",
          "shell.execute_reply.started": "2022-09-29T00:59:36.641735Z",
          "shell.execute_reply": "2022-09-29T00:59:36.846342Z"
        },
        "trusted": true
      },
      "execution_count": null,
      "outputs": []
    },
    {
      "cell_type": "markdown",
      "source": [
        "### Label encoder"
      ],
      "metadata": {
        "id": "mi33AGLll_LR"
      }
    },
    {
      "cell_type": "code",
      "source": [
        "# first step\n",
        "from sklearn.preprocessing import LabelEncoder\n",
        "df['satisfaction'] = LabelEncoder().fit_transform(df['satisfaction'])\n",
        "\n",
        "# second step\n",
        "df['Gender'] = df['Gender'].replace('Female',0)\n",
        "df['Gender'] = df['Gender'].replace('Male',1)\n",
        "df['Gender'] = df['Gender'].astype('int')"
      ],
      "metadata": {
        "id": "4WACXexakwRB",
        "execution": {
          "iopub.status.busy": "2022-09-29T00:59:36.84934Z",
          "iopub.execute_input": "2022-09-29T00:59:36.850556Z",
          "iopub.status.idle": "2022-09-29T00:59:36.976118Z",
          "shell.execute_reply.started": "2022-09-29T00:59:36.850511Z",
          "shell.execute_reply": "2022-09-29T00:59:36.97494Z"
        },
        "trusted": true
      },
      "execution_count": null,
      "outputs": []
    },
    {
      "cell_type": "code",
      "source": [
        "df[['Gender','satisfaction']]"
      ],
      "metadata": {
        "id": "-rJ0qiXDnDu6",
        "execution": {
          "iopub.status.busy": "2022-09-29T00:59:36.977627Z",
          "iopub.execute_input": "2022-09-29T00:59:36.978409Z",
          "iopub.status.idle": "2022-09-29T00:59:37.003047Z",
          "shell.execute_reply.started": "2022-09-29T00:59:36.978365Z",
          "shell.execute_reply": "2022-09-29T00:59:37.002213Z"
        },
        "trusted": true
      },
      "execution_count": null,
      "outputs": []
    },
    {
      "cell_type": "code",
      "source": [
        "# Create correlation matrix\n",
        "corr_matrix = df.corr()\n",
        "\n",
        "plt.figure(figsize=(35,40))\n",
        "sns.set(font_scale=1.5)\n",
        "sns.heatmap(corr_matrix, annot=True, cmap='Blues',fmt='.2g' )"
      ],
      "metadata": {
        "id": "0zmwFRs9sATf",
        "execution": {
          "iopub.status.busy": "2022-09-29T00:59:37.004383Z",
          "iopub.execute_input": "2022-09-29T00:59:37.005008Z",
          "iopub.status.idle": "2022-09-29T00:59:42.234306Z",
          "shell.execute_reply.started": "2022-09-29T00:59:37.004972Z",
          "shell.execute_reply": "2022-09-29T00:59:42.233003Z"
        },
        "trusted": true
      },
      "execution_count": null,
      "outputs": []
    },
    {
      "cell_type": "code",
      "source": [
        "plt.figure(figsize=(6,12))\n",
        "sns.heatmap(corr_matrix[['satisfaction']].sort_values(by=['satisfaction'],ascending=False,),annot=True)"
      ],
      "metadata": {
        "id": "QuZIZS0TsldI",
        "execution": {
          "iopub.status.busy": "2022-09-29T00:59:42.235894Z",
          "iopub.execute_input": "2022-09-29T00:59:42.23661Z",
          "iopub.status.idle": "2022-09-29T00:59:43.032569Z",
          "shell.execute_reply.started": "2022-09-29T00:59:42.236566Z",
          "shell.execute_reply": "2022-09-29T00:59:43.031375Z"
        },
        "trusted": true
      },
      "execution_count": null,
      "outputs": []
    },
    {
      "cell_type": "markdown",
      "source": [
        "# Modeling"
      ],
      "metadata": {
        "id": "b-MwufyHuavK"
      }
    },
    {
      "cell_type": "code",
      "source": [
        "# Disable Warnings\n",
        "import warnings\n",
        "warnings.filterwarnings(\"ignore\")\n",
        "\n",
        "# Machine Learning Model\n",
        "from sklearn.tree import DecisionTreeClassifier\n",
        "from sklearn.linear_model import LogisticRegression\n",
        "from sklearn.neighbors import KNeighborsClassifier\n",
        "from sklearn.naive_bayes import GaussianNB\n",
        "from sklearn.ensemble import RandomForestClassifier , GradientBoostingClassifier, AdaBoostClassifier\n",
        "from sklearn.ensemble import ExtraTreesClassifier\n",
        "from lightgbm import LGBMClassifier\n",
        "from xgboost import XGBClassifier, plot_importance\n",
        "\n",
        "# Evaluation\n",
        "from sklearn import metrics\n",
        "from sklearn.metrics import classification_report, roc_auc_score, roc_curve\n",
        "from sklearn.metrics import make_scorer,accuracy_score,roc_auc_score,precision_score,recall_score,f1_score,log_loss\n",
        "from sklearn.metrics import confusion_matrix\n",
        "\n",
        "# Train-Test Split\n",
        "from sklearn.model_selection import train_test_split\n",
        "\n",
        "# Cross Validation\n",
        "from sklearn.model_selection import StratifiedKFold\n",
        "from sklearn.model_selection import RepeatedStratifiedKFold\n",
        "\n",
        "\n",
        "from sklearn.model_selection import cross_val_score, learning_curve"
      ],
      "metadata": {
        "id": "tqyTdh_OtgEv",
        "execution": {
          "iopub.status.busy": "2022-09-29T00:59:43.034363Z",
          "iopub.execute_input": "2022-09-29T00:59:43.037085Z",
          "iopub.status.idle": "2022-09-29T00:59:44.281312Z",
          "shell.execute_reply.started": "2022-09-29T00:59:43.037029Z",
          "shell.execute_reply": "2022-09-29T00:59:44.280181Z"
        },
        "trusted": true
      },
      "execution_count": null,
      "outputs": []
    },
    {
      "cell_type": "code",
      "source": [
        "y= df['satisfaction']\n",
        "X= df.drop(['satisfaction'],1)"
      ],
      "metadata": {
        "id": "uofvv-ywuiX-",
        "execution": {
          "iopub.status.busy": "2022-09-29T00:59:44.282545Z",
          "iopub.execute_input": "2022-09-29T00:59:44.282879Z",
          "iopub.status.idle": "2022-09-29T00:59:44.291935Z",
          "shell.execute_reply.started": "2022-09-29T00:59:44.282848Z",
          "shell.execute_reply": "2022-09-29T00:59:44.291127Z"
        },
        "trusted": true
      },
      "execution_count": null,
      "outputs": []
    },
    {
      "cell_type": "code",
      "source": [
        "X.shape,y.shape"
      ],
      "metadata": {
        "id": "cjNkReAiu8Ot",
        "execution": {
          "iopub.status.busy": "2022-09-29T00:59:44.293227Z",
          "iopub.execute_input": "2022-09-29T00:59:44.294038Z",
          "iopub.status.idle": "2022-09-29T00:59:44.30517Z",
          "shell.execute_reply.started": "2022-09-29T00:59:44.294002Z",
          "shell.execute_reply": "2022-09-29T00:59:44.303632Z"
        },
        "trusted": true
      },
      "execution_count": null,
      "outputs": []
    },
    {
      "cell_type": "code",
      "source": [
        "X.head()"
      ],
      "metadata": {
        "id": "t-KfEdsevEm1",
        "execution": {
          "iopub.status.busy": "2022-09-29T00:59:44.307038Z",
          "iopub.execute_input": "2022-09-29T00:59:44.307419Z",
          "iopub.status.idle": "2022-09-29T00:59:44.327541Z",
          "shell.execute_reply.started": "2022-09-29T00:59:44.307387Z",
          "shell.execute_reply": "2022-09-29T00:59:44.326028Z"
        },
        "trusted": true
      },
      "execution_count": null,
      "outputs": []
    },
    {
      "cell_type": "code",
      "source": [
        "y"
      ],
      "metadata": {
        "id": "cc0IhXm2wsf3",
        "execution": {
          "iopub.status.busy": "2022-09-29T00:59:44.329278Z",
          "iopub.execute_input": "2022-09-29T00:59:44.329762Z",
          "iopub.status.idle": "2022-09-29T00:59:44.342031Z",
          "shell.execute_reply.started": "2022-09-29T00:59:44.329697Z",
          "shell.execute_reply": "2022-09-29T00:59:44.340608Z"
        },
        "trusted": true
      },
      "execution_count": null,
      "outputs": []
    },
    {
      "cell_type": "code",
      "source": [
        "# Modelling Algorithms\n",
        "\n",
        "kf = StratifiedKFold(n_splits=5,shuffle=True,random_state=0)\n",
        "\n",
        "## Collect all model in one list\n",
        "all_model = [DecisionTreeClassifier,\n",
        "            LogisticRegression,\n",
        "             KNeighborsClassifier,\n",
        "             GaussianNB,\n",
        "            RandomForestClassifier,\n",
        "            GradientBoostingClassifier,\n",
        "            ExtraTreesClassifier,\n",
        "             XGBClassifier]\n",
        "\n",
        "model_name = ['DecisionTreeClassifier',\n",
        "            'LogisticRegression',\n",
        "             'KNeighborsClassifier',\n",
        "             'GaussianNB',\n",
        "            'RandomForestClassifier',\n",
        "            'GradientBoostingClassifier',\n",
        "            'ExtraTreesClassifier',\n",
        "             'XGBClassifier']\n",
        "## loop for all model\n",
        "\n",
        "datatr = []\n",
        "datasc = []\n",
        "Recall =[]\n",
        "Precision =[]\n",
        "auc =[]\n",
        "\n",
        "for idx, model_type in enumerate(all_model):\n",
        "    num = 1\n",
        "    AccTrain = []\n",
        "    AccTest = []\n",
        "    RecallTemp = []\n",
        "    PrecisionTemp = []\n",
        "    AucTemp = []\n",
        "    nfold = 1\n",
        "    for train_index,test_index in kf.split(X,y):\n",
        "\n",
        "        print(\"----------BEFORE------------\")\n",
        "        print(\"{} Acc Train: {}, {} of KFold {}\".format(model_name[idx], AccTrain, nfold, kf.n_splits))\n",
        "        print(\"{} Acc Test: {}, {} of KFold {}\".format(model_name[idx], AccTest, nfold, kf.n_splits))\n",
        "        print(\"{} Recall: {}, {} of KFold {}\".format(model_name[idx], RecallTemp, nfold, kf.n_splits))\n",
        "        print(\"{} Precission: {}, {} of KFold {}\".format(model_name[idx], PrecisionTemp, nfold, kf.n_splits))\n",
        "        print(\"{} AUC: {}, {} of KFold {}\".format(model_name[idx], AucTemp, nfold, kf.n_splits))\n",
        "        print(\"---------------------------\")\n",
        "\n",
        "        X_train_scaled, X_test_scaled = X.iloc[train_index], X.iloc[test_index]\n",
        "        y_train, y_test = y.iloc[train_index], y.iloc[test_index]\n",
        "\n",
        "        model = model_type()\n",
        "        model.fit(X_train_scaled,y_train)\n",
        "        y_pred=model.predict(X_test_scaled)\n",
        "\n",
        "        AccTrain.append(model.score(X_train_scaled , y_train))\n",
        "        AccTest.append(model.score(X_test_scaled , y_test))\n",
        "        RecallTemp.append(recall_score(y_test,y_pred))\n",
        "        PrecisionTemp.append(precision_score(y_test,y_pred))\n",
        "        AucTemp.append(roc_auc_score(y_test, y_pred))\n",
        "\n",
        "        print(\"----------AFTER------------\")\n",
        "        print(\"{} Acc Train: {}, {} of KFold {}\".format(model_name[idx], AccTrain, nfold, kf.n_splits))\n",
        "        print(\"{} Acc Test: {}, {} of KFold {}\".format(model_name[idx], AccTest, nfold, kf.n_splits))\n",
        "        print(\"{} Recall: {}, {} of KFold {}\".format(model_name[idx], RecallTemp, nfold, kf.n_splits))\n",
        "        print(\"{} Precission: {}, {} of KFold {}\".format(model_name[idx], PrecisionTemp, nfold, kf.n_splits))\n",
        "        print(\"{} AUC: {}, {} of KFold {}\".format(model_name[idx], AucTemp, nfold, kf.n_splits))\n",
        "        print(\"---------------------------\")\n",
        "\n",
        "        nfold += 1\n",
        "\n",
        "    print(\"----------FINAL------------\")\n",
        "    print(\"{} Acc Train: {}\".format(model_name[idx], np.mean(AccTrain)))\n",
        "    print(\"{} Acc Test: {}\".format(model_name[idx], np.mean(AccTest)))\n",
        "    print(\"{} Recall: {}\".format(model_name[idx], np.mean(RecallTemp)))\n",
        "    print(\"{} Precission: {}\".format(model_name[idx], np.mean(PrecisionTemp)))\n",
        "    print(\"{} AUC: {}\".format(model_name[idx], np.mean(AucTemp)))\n",
        "    print(\"---------------------------\")\n",
        "    datatr.append(np.mean(AccTrain))\n",
        "    datasc.append(np.mean(AccTest))\n",
        "    Recall.append(np.mean(RecallTemp))\n",
        "    Precision.append(np.mean(PrecisionTemp))\n",
        "    auc.append(np.mean(AucTemp))\n",
        "\n"
      ],
      "metadata": {
        "id": "5qK3fGw-vK-M",
        "execution": {
          "iopub.status.busy": "2022-09-29T00:59:44.344001Z",
          "iopub.execute_input": "2022-09-29T00:59:44.344872Z",
          "iopub.status.idle": "2022-09-29T01:18:57.28572Z",
          "shell.execute_reply.started": "2022-09-29T00:59:44.344823Z",
          "shell.execute_reply": "2022-09-29T01:18:57.284596Z"
        },
        "trusted": true
      },
      "execution_count": null,
      "outputs": []
    },
    {
      "cell_type": "code",
      "source": [
        "# Compare model each other\n",
        "data_hasil = pd.DataFrame()\n",
        "data_hasil['model'] = model_name\n",
        "data_hasil['Accuracy training'] = datatr\n",
        "data_hasil['Accuracy test'] = datasc\n",
        "data_hasil['Precision'] = Precision\n",
        "data_hasil['Recall']= Recall\n",
        "data_hasil['AUC']=auc\n",
        "data_hasil['gap'] = abs(data_hasil['Accuracy training'] - data_hasil['Accuracy test'])\n",
        "data_hasil.sort_values(by='Accuracy test',ascending=False)"
      ],
      "metadata": {
        "id": "VIyMbyhAw052",
        "execution": {
          "iopub.status.busy": "2022-09-29T01:18:57.287204Z",
          "iopub.execute_input": "2022-09-29T01:18:57.287585Z",
          "iopub.status.idle": "2022-09-29T01:18:57.311701Z",
          "shell.execute_reply.started": "2022-09-29T01:18:57.287553Z",
          "shell.execute_reply": "2022-09-29T01:18:57.310383Z"
        },
        "trusted": true
      },
      "execution_count": null,
      "outputs": []
    },
    {
      "cell_type": "markdown",
      "source": [
        "We choose the XGBClassifier model because the results of the test and training are not much different"
      ],
      "metadata": {
        "id": "vQFjRLUnxZvG"
      }
    },
    {
      "cell_type": "markdown",
      "source": [
        "# Train Model"
      ],
      "metadata": {
        "id": "BNBrviCfxfbz"
      }
    },
    {
      "cell_type": "code",
      "source": [
        "model = XGBClassifier().fit(X_train_scaled,y_train)\n",
        "\n",
        "# data training\n",
        "y_pred=model.predict(X_train_scaled)\n",
        "print(classification_report(y_train,y_pred))"
      ],
      "metadata": {
        "id": "hijHfyYAxVB-",
        "execution": {
          "iopub.status.busy": "2022-09-29T01:18:57.31315Z",
          "iopub.execute_input": "2022-09-29T01:18:57.314026Z",
          "iopub.status.idle": "2022-09-29T01:19:03.179382Z",
          "shell.execute_reply.started": "2022-09-29T01:18:57.313989Z",
          "shell.execute_reply": "2022-09-29T01:19:03.178155Z"
        },
        "trusted": true
      },
      "execution_count": null,
      "outputs": []
    },
    {
      "cell_type": "code",
      "source": [
        "# data tes\n",
        "y_pred_test = model.predict(X_test_scaled)\n",
        "print(classification_report(y_test,y_pred_test))"
      ],
      "metadata": {
        "id": "6mTs-Jgwxu0r",
        "execution": {
          "iopub.status.busy": "2022-09-29T01:19:03.181174Z",
          "iopub.execute_input": "2022-09-29T01:19:03.181616Z",
          "iopub.status.idle": "2022-09-29T01:19:03.256769Z",
          "shell.execute_reply.started": "2022-09-29T01:19:03.181573Z",
          "shell.execute_reply": "2022-09-29T01:19:03.255591Z"
        },
        "trusted": true
      },
      "execution_count": null,
      "outputs": []
    },
    {
      "cell_type": "markdown",
      "source": [
        "# Confusion Matrix"
      ],
      "metadata": {
        "id": "mlFfWvDkxzSZ"
      }
    },
    {
      "cell_type": "code",
      "source": [
        "cm_test = confusion_matrix(y_pred_test, y_test)\n",
        "print('Confusion Matrix: {}'.format(cm_test))\n",
        "## visualisasi\n",
        "sns.heatmap(cm_test, annot=True, fmt='d', cmap=\"Blues\");"
      ],
      "metadata": {
        "id": "_cgO06rIxxxJ",
        "execution": {
          "iopub.status.busy": "2022-09-29T01:19:03.257918Z",
          "iopub.execute_input": "2022-09-29T01:19:03.258218Z",
          "iopub.status.idle": "2022-09-29T01:19:03.570386Z",
          "shell.execute_reply.started": "2022-09-29T01:19:03.258191Z",
          "shell.execute_reply": "2022-09-29T01:19:03.569077Z"
        },
        "trusted": true
      },
      "execution_count": null,
      "outputs": []
    },
    {
      "cell_type": "markdown",
      "source": [
        "# Feature Importance"
      ],
      "metadata": {
        "id": "wmfezG0zx6mT"
      }
    },
    {
      "cell_type": "markdown",
      "source": [
        "We want to see Feature Importance from the machine learning results that we choose"
      ],
      "metadata": {
        "id": "tAMcgLgxyAf9"
      }
    },
    {
      "cell_type": "code",
      "source": [
        "# view the feature scores\n",
        "feature_scores = pd.Series(model.feature_importances_, index=X_train_scaled.columns).sort_values(ascending=False)\n",
        "feature_scores"
      ],
      "metadata": {
        "id": "ixAOdvIFx4ZM",
        "execution": {
          "iopub.status.busy": "2022-09-29T01:19:03.571749Z",
          "iopub.execute_input": "2022-09-29T01:19:03.572086Z",
          "iopub.status.idle": "2022-09-29T01:19:03.583072Z",
          "shell.execute_reply.started": "2022-09-29T01:19:03.572057Z",
          "shell.execute_reply": "2022-09-29T01:19:03.581769Z"
        },
        "trusted": true
      },
      "execution_count": null,
      "outputs": []
    },
    {
      "cell_type": "code",
      "source": [
        "importances = pd.Series(data=model.feature_importances_,\n",
        "                        index= X_train_scaled.columns)\n",
        "\n",
        "importances_sorted = importances.sort_values()\n",
        "plt.figure(figsize=(15,8))\n",
        "importances_sorted.plot(kind='barh')\n",
        "plt.title('Features Importances')\n",
        "plt.show()"
      ],
      "metadata": {
        "id": "ucfLAKscyEwU",
        "execution": {
          "iopub.status.busy": "2022-09-29T01:19:03.584485Z",
          "iopub.execute_input": "2022-09-29T01:19:03.584857Z",
          "iopub.status.idle": "2022-09-29T01:19:04.057644Z",
          "shell.execute_reply.started": "2022-09-29T01:19:03.584826Z",
          "shell.execute_reply": "2022-09-29T01:19:04.056544Z"
        },
        "trusted": true
      },
      "execution_count": null,
      "outputs": []
    },
    {
      "cell_type": "markdown",
      "source": [
        "# Conclusion"
      ],
      "metadata": {
        "id": "x7YmpJ1qySPH"
      }
    },
    {
      "cell_type": "markdown",
      "source": [
        "Based on the Insights we got:\n",
        "\n",
        "- There are 5 characteristics of customers who have the potential to be “neutral or dissatisfied” with the service, namely customers with gender “female”, purpose of travel “tourism”, type of travel “Group Travel”, type of booking “Individual/Couple”, and Age “Young ” i.e. age < 40 years\n",
        "\n",
        "- There are 3 most important service factors that significantly affect customer satisfaction, including Hotel Wifi Service, Common Room Entertainment, and Stay comfort.\n",
        "\n",
        "So our strategy is to focus on these 3 main factors to be able to increase customer satisfaction ratings for hotel services, especially to customers who are potentially neutral/dissatisfied. In addition, our recommendation is to provide attractive promos for customers who book in the individual/couple category.\n",
        "\n",
        "Based on the results of the data mining process to modeling & evaluation, we got the best model that can predict whether the customer is satisfied or neutral/dissatisfied with hotel services, namely the XGBoost Classifier (XGB) model. To choose the best model, our first focus is the training and test accuracy score which is the highest but not overfitting (because basically our dataset can be said to be balanced). In addition, we also pay attention to the highest precision score of 0.92 because we want to suppress the false positive value (a condition where the predicted results are \"customers are satisfied\" when in fact \"customers are not satisfied\")."
      ],
      "metadata": {
        "id": "sTa_SSy3yW7H"
      }
    },
    {
      "cell_type": "markdown",
      "source": [
        "# Help Desk"
      ],
      "metadata": {
        "id": "C-AraSGCycy5"
      }
    },
    {
      "cell_type": "markdown",
      "source": [
        "If you have any questions regarding the code above, you can ask our linkedin\n",
        "\n",
        "- https://www.linkedin.com/in/fauzi-reza-a4513a141/\n",
        "- https://www.linkedin.com/in/aldanestitalentapakpahan/\n",
        "- https://www.linkedin.com/in/brian-laurensz-21a7a6228/\n",
        "- https://www.linkedin.com/in/yusfiflo/\n",
        "- https://www.linkedin.com/in/heru-pratiknyo/"
      ],
      "metadata": {
        "id": "1MIzlOl-yjEb"
      }
    }
  ]
}